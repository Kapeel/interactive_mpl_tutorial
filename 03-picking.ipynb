{
 "cells": [
  {
   "cell_type": "code",
   "execution_count": null,
   "metadata": {
    "collapsed": true
   },
   "outputs": [],
   "source": [
    "%matplotlib qt5"
   ]
  },
  {
   "cell_type": "code",
   "execution_count": null,
   "metadata": {
    "collapsed": true
   },
   "outputs": [],
   "source": [
    "import matplotlib.pyplot as plt\n",
    "from pddc_helpers import (load_bwi_data, aggregate_by_day, extract_day_of_hourly,\n",
    "                          label_date)\n",
    "import uuid\n",
    "#plt.ion()"
   ]
  },
  {
   "cell_type": "code",
   "execution_count": null,
   "metadata": {
    "collapsed": true
   },
   "outputs": [],
   "source": [
    "class RowPrinter:\n",
    "    def __init__(self, ln, df, picker=10):\n",
    "        ln.set_picker(picker)\n",
    "        self.uid = str(uuid.uuid4())\n",
    "        ln.set_gid(self.uid)\n",
    "        self.ln = ln\n",
    "        self.df = df\n",
    "        self.cid = None\n",
    "        self.connect()\n",
    "\n",
    "    def connect(self):\n",
    "        self.remove()\n",
    "        self.cid = ln.figure.canvas.mpl_connect('pick_event',\n",
    "                                                self)\n",
    "\n",
    "    def __call__(self, event):\n",
    "        # ignore picks on not-our-artist\n",
    "        if event.artist is not self.ln:\n",
    "            return\n",
    "        # for each hit index, print out the row\n",
    "        for i in event.ind:\n",
    "            print(self.df.iloc[i])\n",
    "\n",
    "    def remove(self):\n",
    "        if self.cid is not None:\n",
    "            self.ln.figure.canvas.mpl_disconnect(self.cid)\n",
    "            self.cid = None"
   ]
  },
  {
   "cell_type": "code",
   "execution_count": null,
   "metadata": {
    "collapsed": true
   },
   "outputs": [],
   "source": [
    "bwi = load_bwi_data()\n",
    "bwi = bwi[bwi['year'] > 2014]\n",
    "bwi_daily = aggregate_by_day(bwi)"
   ]
  },
  {
   "cell_type": "code",
   "execution_count": null,
   "metadata": {},
   "outputs": [],
   "source": [
    "fig, ax = plt.subplots()\n",
    "fig.canvas.mpl_disconnect(fig.canvas.manager.key_press_handler_id)\n",
    "ln, = ax.plot('mean', '-o', data=bwi_daily)\n",
    "ax.set_xlabel('Date [UTC]')\n",
    "ax.set_ylabel('Air Temperature [℃]')\n",
    "ax.set_title('BWI')\n",
    "rp = RowPrinter(ln, bwi_daily)\n",
    "\n",
    "one_day = extract_day_of_hourly(bwi, 2015, 10, 18)"
   ]
  },
  {
   "cell_type": "markdown",
   "metadata": {
    "collapsed": true
   },
   "source": [
    "# EXERCISE\n",
    "- make the print out nicer looking\n",
    "- make picking add a label with `label_data`\n",
    "- use `get_gid` to filter instead of `is not`\n",
    "- open a new window with plot of day temperature\n",
    "  - fig, ax = plt.subplots()\n",
    "  - one_day = extract_day_of_hourly(bwi, 2015, 10, 18)"
   ]
  },
  {
   "cell_type": "code",
   "execution_count": null,
   "metadata": {
    "collapsed": true
   },
   "outputs": [],
   "source": []
  }
 ],
 "metadata": {
  "kernelspec": {
   "display_name": "Python 3",
   "language": "python",
   "name": "python3"
  },
  "language_info": {
   "codemirror_mode": {
    "name": "ipython",
    "version": 3
   },
   "file_extension": ".py",
   "mimetype": "text/x-python",
   "name": "python",
   "nbconvert_exporter": "python",
   "pygments_lexer": "ipython3",
   "version": "3.6.1"
  }
 },
 "nbformat": 4,
 "nbformat_minor": 1
}
