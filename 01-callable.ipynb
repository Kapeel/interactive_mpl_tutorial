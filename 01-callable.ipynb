{
 "cells": [
  {
   "cell_type": "code",
   "execution_count": null,
   "metadata": {
    "collapsed": true
   },
   "outputs": [],
   "source": [
    "%matplotlib qt5"
   ]
  },
  {
   "cell_type": "code",
   "execution_count": null,
   "metadata": {
    "collapsed": true
   },
   "outputs": [],
   "source": [
    "from collections import deque\n",
    "import matplotlib as mpl\n",
    "import matplotlib.pyplot as plt\n",
    "import numpy as np\n",
    "#plt.ion()"
   ]
  },
  {
   "cell_type": "code",
   "execution_count": null,
   "metadata": {
    "collapsed": true
   },
   "outputs": [],
   "source": [
    "class EventCollector:\n",
    "    def __init__(self, maxlen=12):\n",
    "        self.event_deque = deque([], maxlen=maxlen)\n",
    "\n",
    "    def __call__(self, event):\n",
    "        print('called {} at ({}, {})'.format(\n",
    "            event.name, event.xdata, event.ydata))\n",
    "        self.event_deque.append(event)"
   ]
  },
  {
   "cell_type": "code",
   "execution_count": null,
   "metadata": {
    "collapsed": true
   },
   "outputs": [],
   "source": [
    "fig, ax = plt.subplots()\n",
    "# disable the built in key bindings\n",
    "fig.canvas.mpl_disconnect(fig.canvas.manager.key_press_handler_id)\n",
    "\n",
    "th = np.linspace(0, 2*np.pi, 64)\n",
    "ln, = ax.plot(th, np.sin(th), 'o-', picker=5)\n",
    "\n",
    "ec = EventCollector()\n",
    "cid = fig.canvas.mpl_connect('key_press_event', ec)"
   ]
  },
  {
   "cell_type": "markdown",
   "metadata": {
    "collapsed": true
   },
   "source": [
    "# EXERCISE\n",
    "- Try connecting the same object to other event calls\n",
    "- add helper function to manage event buffer (display, clear)\n",
    "- connect those functions to other events"
   ]
  },
  {
   "cell_type": "code",
   "execution_count": null,
   "metadata": {
    "collapsed": true
   },
   "outputs": [],
   "source": []
  }
 ],
 "metadata": {
  "kernelspec": {
   "display_name": "Python 3",
   "language": "python",
   "name": "python3"
  },
  "language_info": {
   "codemirror_mode": {
    "name": "ipython",
    "version": 3
   },
   "file_extension": ".py",
   "mimetype": "text/x-python",
   "name": "python",
   "nbconvert_exporter": "python",
   "pygments_lexer": "ipython3",
   "version": "3.6.1"
  }
 },
 "nbformat": 4,
 "nbformat_minor": 1
}
