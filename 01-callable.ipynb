{
 "cells": [
  {
   "cell_type": "code",
   "execution_count": null,
   "metadata": {
    "collapsed": true
   },
   "outputs": [],
   "source": [
    "# %load '01-callable.py'\n",
    "from collections import deque\n",
    "import matplotlib as mpl\n",
    "import matplotlib.pyplot as plt\n",
    "import numpy as np\n",
    "plt.ion()\n",
    "\n",
    "# disable the built in key bindings\n",
    "for k in ['keymap.all_axes',\n",
    "          'keymap.back',\n",
    "          'keymap.forward',\n",
    "          'keymap.fullscreen',\n",
    "          'keymap.grid',\n",
    "          'keymap.home',\n",
    "          'keymap.pan',\n",
    "          'keymap.save',\n",
    "          'keymap.xscale',\n",
    "          'keymap.yscale',\n",
    "          'keymap.zoom']:\n",
    "    mpl.rcParams[k] = []\n",
    "\n",
    "\n",
    "class EventCollector:\n",
    "    def __init__(self, maxlen=12):\n",
    "        self.event_deque = deque([], maxlen=maxlen)\n",
    "\n",
    "    def __call__(self, event):\n",
    "        print('called {} at ({}, {})'.format(event.name,\n",
    "                                             event.xdata,\n",
    "                                             event.ydata))\n",
    "        self.event_deque.append(event)\n",
    "\n",
    "\n",
    "fig, ax = plt.subplots()\n",
    "\n",
    "th = np.linspace(0, 2*np.pi, 64)\n",
    "ln, = ax.plot(th, np.sin(th), 'o-', picker=5)\n",
    "\n",
    "ec = EventCollector()\n",
    "cid = fig.canvas.mpl_connect('key_press_event', ec)\n",
    "\n",
    "\n",
    "# EXERCISE\n",
    "# - Try connecting the same object to events calls\n",
    "# - add helper function to manage event buffer\n"
   ]
  },
  {
   "cell_type": "code",
   "execution_count": null,
   "metadata": {
    "collapsed": true
   },
   "outputs": [],
   "source": []
  }
 ],
 "metadata": {
  "kernelspec": {
   "display_name": "Python 2",
   "language": "python",
   "name": "python2"
  },
  "language_info": {
   "codemirror_mode": {
    "name": "ipython",
    "version": 2
   },
   "file_extension": ".py",
   "mimetype": "text/x-python",
   "name": "python",
   "nbconvert_exporter": "python",
   "pygments_lexer": "ipython2",
   "version": "2.7.12"
  }
 },
 "nbformat": 4,
 "nbformat_minor": 0
}
