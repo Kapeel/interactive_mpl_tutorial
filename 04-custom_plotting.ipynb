{
 "cells": [
  {
   "cell_type": "code",
   "execution_count": null,
   "metadata": {
    "collapsed": true
   },
   "outputs": [],
   "source": [
    "# %load '04-custom_plotting.py'\n",
    "import matplotlib.pyplot as plt\n",
    "from pddc_helpers import load_bwi_data, aggregate_by_month\n",
    "plt.ion()\n",
    "\n",
    "bwi = load_bwi_data()\n",
    "bwi_monthly = aggregate_by_month(bwi)\n",
    "\n",
    "fig, ax = plt.subplots()\n",
    "\n",
    "\n",
    "def plot_aggregated_errorbar(ax, gb, label, picker=None, **kwargs):\n",
    "    kwargs.setdefault('capsize', 3)\n",
    "    kwargs.setdefault('markersize', 5)\n",
    "    kwargs.setdefault('marker', 'o')\n",
    "    eb = ax.errorbar(gb.index, 'mean',\n",
    "                     yerr='std',\n",
    "                     data=gb,\n",
    "                     label=label,\n",
    "                     picker=picker,\n",
    "                     **kwargs)\n",
    "    fill = ax.fill_between(gb.index, 'min', 'max', alpha=.5,\n",
    "                           data=gb, color=eb[0].get_color())\n",
    "    ax.legend()\n",
    "    ax.figure.canvas.draw_idle()\n",
    "    return eb, fill\n",
    "\n",
    "arts = plot_aggregated_errorbar(ax, bwi_monthly, 'bwi')\n",
    "\n",
    "# EXERCISE\n",
    "# - make the shaded area configurable\n",
    "# - make center line configurable\n",
    "\n",
    "\n",
    "def plot_aggregated_errorbar(ax, gb, label, picker=None, *,\n",
    "                             bands=None,\n",
    "                             center_line='mean',\n",
    "                             **kwargs):\n",
    "    if bands is None:\n",
    "        bands = ['min', 'max']\n",
    "    kwargs.setdefault('capsize', 3)\n",
    "    kwargs.setdefault('markersize', 5)\n",
    "    kwargs.setdefault('marker', 'o')\n",
    "    eb = ax.errorbar(gb.index, center_line,\n",
    "                     yerr='std',\n",
    "                     data=gb,\n",
    "                     label=label,\n",
    "                     picker=picker,\n",
    "                     **kwargs)\n",
    "    fill = ax.fill_between(gb.index, *bands, alpha=.5,\n",
    "                           data=gb, color=eb[0].get_color())\n",
    "    ax.legend()\n",
    "    ax.figure.canvas.draw_idle()\n",
    "    return eb, fill\n",
    "\n",
    "arts = plot_aggregated_errorbar(ax, bwi_monthly, 'bwi',\n",
    "                                bands=['25%', '75%'],\n",
    "                                center_line='50%')\n"
   ]
  },
  {
   "cell_type": "code",
   "execution_count": null,
   "metadata": {
    "collapsed": true
   },
   "outputs": [],
   "source": []
  }
 ],
 "metadata": {
  "kernelspec": {
   "display_name": "Python 2",
   "language": "python",
   "name": "python2"
  },
  "language_info": {
   "codemirror_mode": {
    "name": "ipython",
    "version": 2
   },
   "file_extension": ".py",
   "mimetype": "text/x-python",
   "name": "python",
   "nbconvert_exporter": "python",
   "pygments_lexer": "ipython2",
   "version": "2.7.12"
  }
 },
 "nbformat": 4,
 "nbformat_minor": 0
}
