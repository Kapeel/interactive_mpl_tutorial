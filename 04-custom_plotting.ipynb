{
 "cells": [
  {
   "cell_type": "code",
   "execution_count": null,
   "metadata": {
    "collapsed": true
   },
   "outputs": [],
   "source": [
    "%matplotlib qt5"
   ]
  },
  {
   "cell_type": "code",
   "execution_count": null,
   "metadata": {
    "collapsed": true
   },
   "outputs": [],
   "source": [
    "import matplotlib.pyplot as plt\n",
    "from pddc_helpers import load_bwi_data, aggregate_by_month\n",
    "#plt.ion()"
   ]
  },
  {
   "cell_type": "code",
   "execution_count": null,
   "metadata": {
    "collapsed": true
   },
   "outputs": [],
   "source": [
    "bwi = load_bwi_data()\n",
    "bwi_monthly = aggregate_by_month(bwi)"
   ]
  },
  {
   "cell_type": "markdown",
   "metadata": {},
   "source": [
    "# Custom Plotting\n",
    "Let us back away from interactivity for a moment. Matplotlib's plotting API is very low-level. With it, you can form the primitive components of many, many plot types. There exists other plotting libraries like Seaborn that builds on top of Matplotlib's API, and there is no reason why you can't customize your plots, too!\n",
    "\n",
    "Write the API you need for your data (inside of which you bring your data to the API). The following is an example showing how to, given an Axes, a dataframe, and a label, make a graph showing the variance of the monthly temperatures, bounded by the monthly minimum and maximum temperatures.\n",
    "\n",
    "No interactivity at this point. "
   ]
  },
  {
   "cell_type": "code",
   "execution_count": null,
   "metadata": {
    "collapsed": true
   },
   "outputs": [],
   "source": [
    "def plot_aggregated_errorbar(ax, gb, label, picker=None, **kwargs):\n",
    "    kwargs.setdefault('capsize', 3)\n",
    "    kwargs.setdefault('markersize', 5)\n",
    "    kwargs.setdefault('marker', 'o')\n",
    "    eb = ax.errorbar(gb.index, 'mean',\n",
    "                     yerr='std',\n",
    "                     data=gb,\n",
    "                     label=label,\n",
    "                     picker=picker,\n",
    "                     **kwargs)\n",
    "    fill = ax.fill_between(gb.index, 'min', 'max', alpha=.5,\n",
    "                           data=gb, color=eb[0].get_color())\n",
    "    ax.legend()\n",
    "    ax.figure.canvas.draw_idle()\n",
    "    return eb, fill"
   ]
  },
  {
   "cell_type": "code",
   "execution_count": null,
   "metadata": {
    "collapsed": true
   },
   "outputs": [],
   "source": [
    "fig, ax = plt.subplots()\n",
    "arts = plot_aggregated_errorbar(ax, bwi_monthly, 'bwi')"
   ]
  },
  {
   "cell_type": "markdown",
   "metadata": {},
   "source": [
    "# EXERCISE\n",
    "- make the shaded area configurable\n",
    "- make center line configurable"
   ]
  },
  {
   "cell_type": "code",
   "execution_count": null,
   "metadata": {
    "collapsed": true
   },
   "outputs": [],
   "source": [
    "def plot_aggregated_errorbar(ax, gb, label, picker=None, *,\n",
    "                             bands=None,\n",
    "                             center_line='mean',\n",
    "                             **kwargs):\n",
    "    if bands is None:\n",
    "        bands = ['min', 'max']\n",
    "    kwargs.setdefault('capsize', 3)\n",
    "    kwargs.setdefault('markersize', 5)\n",
    "    kwargs.setdefault('marker', 'o')\n",
    "    eb = ax.errorbar(gb.index, center_line,\n",
    "                     yerr='std',\n",
    "                     data=gb,\n",
    "                     label=label,\n",
    "                     picker=picker,\n",
    "                     **kwargs)\n",
    "    fill = ax.fill_between(gb.index, *bands, alpha=.5,\n",
    "                           data=gb, color=eb[0].get_color())\n",
    "    ax.legend()\n",
    "    ax.figure.canvas.draw_idle()\n",
    "    return eb, fill"
   ]
  },
  {
   "cell_type": "code",
   "execution_count": null,
   "metadata": {
    "collapsed": true
   },
   "outputs": [],
   "source": [
    "fig, ax = plt.subplots()\n",
    "arts = plot_aggregated_errorbar(ax, bwi_monthly, 'bwi',\n",
    "                                bands=['25%', '75%'],\n",
    "                                center_line='50%')"
   ]
  },
  {
   "cell_type": "code",
   "execution_count": null,
   "metadata": {
    "collapsed": true
   },
   "outputs": [],
   "source": []
  }
 ],
 "metadata": {
  "kernelspec": {
   "display_name": "Python 3",
   "language": "python",
   "name": "python3"
  },
  "language_info": {
   "codemirror_mode": {
    "name": "ipython",
    "version": 3
   },
   "file_extension": ".py",
   "mimetype": "text/x-python",
   "name": "python",
   "nbconvert_exporter": "python",
   "pygments_lexer": "ipython3",
   "version": "3.6.1"
  }
 },
 "nbformat": 4,
 "nbformat_minor": 1
}
