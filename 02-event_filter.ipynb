{
 "cells": [
  {
   "cell_type": "code",
   "execution_count": null,
   "metadata": {
    "collapsed": true
   },
   "outputs": [],
   "source": [
    "%matplotlib qt5"
   ]
  },
  {
   "cell_type": "code",
   "execution_count": null,
   "metadata": {
    "collapsed": true
   },
   "outputs": [],
   "source": [
    "import matplotlib.pyplot as plt\n",
    "from itertools import cycle\n",
    "#plt.ion()"
   ]
  },
  {
   "cell_type": "markdown",
   "metadata": {},
   "source": [
    "# Event Filtering\n",
    "We have created some very simple examples that simply report information upon events, but nothing more useful. Let us now create something useful, like a plotter. A plotter will need to record the locations of mouse clicks and draw lines between the clicks. A plotter should also respond to other events in order to change the line color or somesuch.\n",
    "\n",
    "Previously, we created a callable class where the object itself would act as the callback to multiple event types. The call method could then decide what action to take based upon the information in the event object. Another approach is to create a class with multiple methods that are individually connected to different event types. Both are perfectly valid approaches, each with design pros and cons.\n",
    "\n",
    "The `LineMaker` class will take a line object from `plt.plot()`, and record its x/y data as Python lists. The data in the line object itself is stored as a NumPy array, which is fixed in size. Then, `LineMaker` will hook up its `on_button()` method to mouse button presses, and its `on_key()` method to key press events."
   ]
  },
  {
   "cell_type": "code",
   "execution_count": null,
   "metadata": {
    "collapsed": true
   },
   "outputs": [],
   "source": [
    "class LineMaker:\n",
    "    def __init__(self, ln):\n",
    "        # stash the current data\n",
    "        self.xdata = list(ln.get_xdata())\n",
    "        self.ydata = list(ln.get_ydata())\n",
    "        # stash the Line2D artist\n",
    "        self.ln = ln\n",
    "        self.color_cyle = cycle(['#1f77b4', '#ff7f0e', '#2ca02c', '#d62728',\n",
    "                                 '#9467bd', '#8c564b', '#e377c2', '#7f7f7f',\n",
    "                                 '#bcbd22', '#17becf'])\n",
    "        self.button_cid = ln.figure.canvas.mpl_connect('button_press_event',\n",
    "                                                       self.on_button)\n",
    "        self.key_cid = ln.figure.canvas.mpl_connect('key_press_event',\n",
    "                                                    self.on_key)\n",
    "\n",
    "    def on_button(self, event):\n",
    "        # only consider events from the lines Axes\n",
    "        if event.inaxes is not self.ln.axes:\n",
    "            return\n",
    "\n",
    "        # if not the left mouse button or a modifier key\n",
    "        # is held down, bail\n",
    "        if event.button != 1 or event.key is not None:\n",
    "            print('key+button: {!r}+{!r}'.format(event.key, event.button))\n",
    "            return\n",
    "\n",
    "        # get the event location in data-space\n",
    "        self.xdata.append(event.xdata)\n",
    "        self.ydata.append(event.ydata)\n",
    "\n",
    "        # update the artist data\n",
    "        self.ln.set_data(self.xdata, self.ydata)\n",
    "\n",
    "        # ask the GUI to re-draw the next time it can\n",
    "        self.ln.figure.canvas.draw_idle()\n",
    "\n",
    "    def on_key(self, event):\n",
    "        # This is _super_ useful for debugging!\n",
    "        # print(event.key)\n",
    "\n",
    "        # if the key is c (any case)\n",
    "        if event.key.lower() == 'c':\n",
    "            # change the color\n",
    "            self.ln.set_color(next(self.color_cyle))\n",
    "\n",
    "            # ask the GUI to re-draw the next time it can\n",
    "            self.ln.figure.canvas.draw_idle()"
   ]
  },
  {
   "cell_type": "markdown",
   "metadata": {},
   "source": [
    "If anything but the left mouse button is pressed and/or any key is also being held down, nothing interesting happens. If the mouse event happens outside the plot area, nothing interesting happens as well. But regular left-button presses will cause `LineMaker` to add that data coordinate to its lists of x and y coordinates, and update the Line artist object.\n",
    "\n",
    "If the 'c' key is pressed, then the line will change color."
   ]
  },
  {
   "cell_type": "code",
   "execution_count": null,
   "metadata": {
    "collapsed": true
   },
   "outputs": [],
   "source": [
    "fig, ax = plt.subplots()\n",
    "ln, = ax.plot([], [], '-o')\n",
    "line_maker = LineMaker(ln)"
   ]
  },
  {
   "cell_type": "markdown",
   "metadata": {
    "collapsed": true
   },
   "source": [
    "# EXERCISE\n",
    " - modify to remove the closest point on button == 3 or key == 'shift'\n",
    " - change the line width for keys [1-9]\n",
    " - clear the line when event.key == 'escape'"
   ]
  },
  {
   "cell_type": "code",
   "execution_count": null,
   "metadata": {
    "collapsed": true
   },
   "outputs": [],
   "source": []
  }
 ],
 "metadata": {
  "kernelspec": {
   "display_name": "Python 3",
   "language": "python",
   "name": "python3"
  },
  "language_info": {
   "codemirror_mode": {
    "name": "ipython",
    "version": 3
   },
   "file_extension": ".py",
   "mimetype": "text/x-python",
   "name": "python",
   "nbconvert_exporter": "python",
   "pygments_lexer": "ipython3",
   "version": "3.6.1"
  }
 },
 "nbformat": 4,
 "nbformat_minor": 1
}
