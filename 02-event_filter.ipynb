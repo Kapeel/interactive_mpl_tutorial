{
 "cells": [
  {
   "cell_type": "code",
   "execution_count": null,
   "metadata": {
    "collapsed": true
   },
   "outputs": [],
   "source": [
    "# %load '02-event_filter.py'\n",
    "import matplotlib.pyplot as plt\n",
    "from itertools import cycle\n",
    "plt.ion()\n",
    "\n",
    "\n",
    "class LineMaker:\n",
    "    def __init__(self, ln):\n",
    "        # stash the current data\n",
    "        self.xdata = list(ln.get_xdata())\n",
    "        self.ydata = list(ln.get_ydata())\n",
    "        # stash the Line2D artist\n",
    "        self.ln = ln\n",
    "        self.color_cyle = cycle(['#1f77b4', '#ff7f0e', '#2ca02c', '#d62728',\n",
    "                                 '#9467bd', '#8c564b', '#e377c2', '#7f7f7f',\n",
    "                                 '#bcbd22', '#17becf'])\n",
    "        self.button_cid = ln.figure.canvas.mpl_connect('button_press_event',\n",
    "                                                       self.on_button)\n",
    "        self.key_cid = ln.figure.canvas.mpl_connect('key_press_event',\n",
    "                                                    self.on_key)\n",
    "\n",
    "    def on_button(self, event):\n",
    "        # only consider events from the lines Axes\n",
    "        if event.inaxes is not self.ln.axes:\n",
    "            return\n",
    "\n",
    "        # if not the left mouse button or a modifier key\n",
    "        # is held down, bail\n",
    "        if event.button != 1 or event.key is not None:\n",
    "            print('key+button: {!r}+{!r}'.format(event.key, event.button))\n",
    "            return\n",
    "\n",
    "        # get the event location in data-space\n",
    "        self.xdata.append(event.xdata)\n",
    "        self.ydata.append(event.ydata)\n",
    "\n",
    "        # update the artist data\n",
    "        self.ln.set_data(self.xdata, self.ydata)\n",
    "\n",
    "        # ask the GUI to re-draw the next time it can\n",
    "        self.ln.figure.canvas.draw_idle()\n",
    "\n",
    "    def on_key(self, event):\n",
    "        # This is _super_ useful for debugging!\n",
    "        # print(event.key)\n",
    "\n",
    "        # if the key is c (any case)\n",
    "        if event.key.lower() == 'c':\n",
    "            # change the color\n",
    "            self.ln.set_color(next(self.color_cyle))\n",
    "\n",
    "            # ask the GUI to re-draw the next time it can\n",
    "            self.ln.figure.canvas.draw_idle()\n",
    "\n",
    "fig, ax = plt.subplots()\n",
    "ln, = ax.plot([], [], '-o')\n",
    "line_maker = LineMaker(ln)\n",
    "\n",
    "# EXERCISE\n",
    "# - modify to remove the closest point on button == 3 or key == 'shift'\n",
    "# - change the line width for [1-9]\n",
    "# - clear the line when event.key == 'escape'\n"
   ]
  },
  {
   "cell_type": "code",
   "execution_count": null,
   "metadata": {
    "collapsed": true
   },
   "outputs": [],
   "source": []
  }
 ],
 "metadata": {
  "kernelspec": {
   "display_name": "Python 2",
   "language": "python",
   "name": "python2"
  },
  "language_info": {
   "codemirror_mode": {
    "name": "ipython",
    "version": 2
   },
   "file_extension": ".py",
   "mimetype": "text/x-python",
   "name": "python",
   "nbconvert_exporter": "python",
   "pygments_lexer": "ipython2",
   "version": "2.7.12"
  }
 },
 "nbformat": 4,
 "nbformat_minor": 0
}
