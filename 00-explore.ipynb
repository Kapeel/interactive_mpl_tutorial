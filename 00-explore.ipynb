{
 "cells": [
  {
   "cell_type": "code",
   "execution_count": null,
   "metadata": {},
   "outputs": [],
   "source": [
    "%matplotlib qt5"
   ]
  },
  {
   "cell_type": "code",
   "execution_count": null,
   "metadata": {
    "collapsed": true
   },
   "outputs": [],
   "source": [
    "import matplotlib.pyplot as plt\n",
    "import numpy as np\n",
    "#plt.ion()"
   ]
  },
  {
   "cell_type": "code",
   "execution_count": null,
   "metadata": {
    "collapsed": true
   },
   "outputs": [],
   "source": [
    "ev = None\n",
    "\n",
    "def event_printer(event):\n",
    "    \"\"\"Helper function for exploring events.\n",
    "\n",
    "    Prints all public attributes +\n",
    "    \"\"\"\n",
    "    global ev\n",
    "    ev = event\n",
    "    for k, v in sorted(vars(event).items()):\n",
    "        print('{k}: {v!r}'.format(k=k, v=v))\n",
    "    print('-'*25)"
   ]
  },
  {
   "cell_type": "code",
   "execution_count": null,
   "metadata": {
    "collapsed": true
   },
   "outputs": [],
   "source": [
    "th = np.linspace(0, 2*np.pi, 64)\n",
    "fig, ax = plt.subplots()\n",
    "ax.plot(th, np.sin(th), 'o-', picker=5)\n",
    "\n",
    "cid = fig.canvas.mpl_connect('button_press_event', event_printer)"
   ]
  },
  {
   "cell_type": "code",
   "execution_count": null,
   "metadata": {
    "collapsed": true
   },
   "outputs": [],
   "source": [
    "# fig.canvas.mpl_disconnect(cid)"
   ]
  },
  {
   "cell_type": "markdown",
   "metadata": {},
   "source": [
    "# EXERCISE\n",
    "- Try all 'active' events\n",
    "   ['button_press_event', 'button_release_event', 'scroll_event',\n",
    "    'key_press_event', 'key_release_event', 'pick_event']\n",
    " - tweak the print line\n",
    " - remove a callback\n",
    " - add more than one callback to the canvas\n",
    "- Handy reference https://matplotlib.org/users/event_handling.html"
   ]
  },
  {
   "cell_type": "code",
   "execution_count": null,
   "metadata": {
    "collapsed": true
   },
   "outputs": [],
   "source": []
  }
 ],
 "metadata": {
  "kernelspec": {
   "display_name": "Python 3",
   "language": "python",
   "name": "python3"
  },
  "language_info": {
   "codemirror_mode": {
    "name": "ipython",
    "version": 3
   },
   "file_extension": ".py",
   "mimetype": "text/x-python",
   "name": "python",
   "nbconvert_exporter": "python",
   "pygments_lexer": "ipython3",
   "version": "3.6.1"
  }
 },
 "nbformat": 4,
 "nbformat_minor": 1
}
