{
 "cells": [
  {
   "cell_type": "code",
   "execution_count": null,
   "metadata": {},
   "outputs": [],
   "source": [
    "# %load '00-explore.py'\n",
    "import matplotlib.pyplot as plt\n",
    "import numpy as np\n",
    "plt.ion()\n",
    "\n",
    "ev = None\n",
    "\n",
    "\n",
    "def event_printer(event):\n",
    "    \"\"\"Helper function for exploring events.\n",
    "\n",
    "    Prints all public attributes +\n",
    "    \"\"\"\n",
    "    global ev\n",
    "    ev = event\n",
    "    for k, v in sorted(vars(event).items()):\n",
    "        print('{k}: {v!r}'.format(k=k, v=v))\n",
    "    print('-'*25)\n",
    "\n",
    "th = np.linspace(0, 2*np.pi, 64)\n",
    "fig, ax = plt.subplots()\n",
    "ax.plot(th, np.sin(th), 'o-', picker=5)\n",
    "\n",
    "cid = fig.canvas.mpl_connect('button_press_event', event_printer)\n",
    "# fig.canvas.mpl_disconnect(cid)\n",
    "\n",
    "\n",
    "# EXERCISE\n",
    "# - Try all 'active' events\n",
    "#   ['button_press_event', 'button_release_event', 'scroll_event',\n",
    "#    'key_press_event', 'key_release_event', 'pick_event']\n",
    "# - tweak the print line\n",
    "# - remove a callback\n",
    "# - add more than one callback to the canvas\n"
   ]
  },
  {
   "cell_type": "code",
   "execution_count": null,
   "metadata": {
    "collapsed": true
   },
   "outputs": [],
   "source": []
  }
 ],
 "metadata": {
  "kernelspec": {
   "display_name": "Python 3",
   "language": "python",
   "name": "python3"
  },
  "language_info": {
   "codemirror_mode": {
    "name": "ipython",
    "version": 3
   },
   "file_extension": ".py",
   "mimetype": "text/x-python",
   "name": "python",
   "nbconvert_exporter": "python",
   "pygments_lexer": "ipython3",
   "version": "3.6.1"
  }
 },
 "nbformat": 4,
 "nbformat_minor": 1
}
