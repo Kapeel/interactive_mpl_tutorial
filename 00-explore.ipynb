{
 "cells": [
  {
   "cell_type": "markdown",
   "metadata": {},
   "source": [
    "# Introduction\n",
    " - What is Matplotlib?\n",
    " - There is a book!\n",
    "[Interactive Applications using Matplotlib](https://www.packtpub.com/application-development/interactive-applications-using-matplotlib) by Ben Root\n",
    "\n",
    "\"Learn how Lincoln could use Matplotlib to save the Earth from hordes\n",
    "of ravenous space ware-rabbits!  Just plotting your data won't save\n",
    "the world, but turning your plots into interactive applications will\n",
    "help your users explore their data and gain greater insight into their\n",
    "problems.  This book will walk the reader through the process of\n",
    "turning a simple radar viewer into a useful hazardous event tracker,\n",
    "so you too can spot where the space ware-rabbits are going to strike\n",
    "next!\"\n",
    "\n",
    "# Hello World!\n",
    "Let's dive right into it with a very simple example application. This example will display a simple plot (nothing special about the plot), and will print to the screen any events caused by mouse button clicks."
   ]
  },
  {
   "cell_type": "code",
   "execution_count": null,
   "metadata": {
    "collapsed": true
   },
   "outputs": [],
   "source": [
    "# This is specific to ipython & jupyter.\n",
    "# It just forces an interactive GUI backend\n",
    "%matplotlib qt5"
   ]
  },
  {
   "cell_type": "markdown",
   "metadata": {},
   "source": [
    "## Typical Imports\n",
    "These two imports are probably the most common imports for applications using matplotlib. Matplotlib has a few different interfaces, but the most straight-forward one is `pyplot`. NumPy is used for N-dimensional data and computation.\n",
    "\n",
    "I have commented out `plt.ion()` because it is not needed in the jupyter notebooks, but it is needed if these example scripts are executed in ipython. Most of the time, you will not need this command, and it isn't even needed in general for interactive applications. All it does is allow access to the REPL for interactive plotting."
   ]
  },
  {
   "cell_type": "code",
   "execution_count": null,
   "metadata": {
    "collapsed": true
   },
   "outputs": [],
   "source": [
    "import matplotlib.pyplot as plt\n",
    "import numpy as np\n",
    "#plt.ion()"
   ]
  },
  {
   "cell_type": "markdown",
   "metadata": {},
   "source": [
    "## Events and Callbacks\n",
    "Matplotlib has its own simple event and callback system that underpins its entire interactive feature-set. It is backend-agnostic, so it doesn't matter if you are using Windows, Mac, Linux, Qt, GTK, etc! This is how Matplotlib can work on such a wide variety of platforms.\n",
    "\n",
    "Any callback function should take a single \"event\" argument, which is just a simple python object. Based on the type of event that it is, it may have different attributes defined. This callback function is a useful debugging tool, as it displays information about the event object that it received.\n",
    "\n",
    "It also stores the event as a global variable as a way to carry state between calls. It doesn't do anything with that state, but we will see examples of that later."
   ]
  },
  {
   "cell_type": "code",
   "execution_count": null,
   "metadata": {
    "collapsed": true
   },
   "outputs": [],
   "source": [
    "ev = None\n",
    "\n",
    "def event_printer(event):\n",
    "    \"\"\"Helper function for exploring events.\n",
    "\n",
    "    Prints all public attributes +\n",
    "    \"\"\"\n",
    "    global ev\n",
    "    ev = event\n",
    "    for k, v in sorted(vars(event).items()):\n",
    "        print('{k}: {v!r}'.format(k=k, v=v))\n",
    "    print('-'*25)"
   ]
  },
  {
   "cell_type": "markdown",
   "metadata": {},
   "source": [
    "## Canvases, Figures, and Axes\n",
    "There are several layers to Matplotlib. Many plots can go onto an Axes object, and several Axes objects can go onto a Figure object. That figure object works in conjunction with the \"figure manager\" (advanced topic) and the \"canvas\".\n",
    "\n",
    "The manager is responsible for the GUI window, the canvas object, and the navigation toolbar. The canvas object is the GUI widget upon which \"stuff\" is rendered. It also manages all of its events -- translating GUI events into Matplotlib events, and triggering callbacks.\n",
    "\n",
    "## Making the Connection\n",
    "Now we will load up some \"data\", create our figure and axes object, and plot that data. We will also supply a value of 5 to the optional \"picker\" argument. This tells Matplotlib that the line drawn by this command should respond to mouse events within 5 points of the line, emitting a 'pick_event'.\n",
    "\n",
    "Finally, let's attach the `event_printer` callback to mouse button press events. The `mpl_connect()` method returns an id object that can be used later to disconnect that callback function, if desired."
   ]
  },
  {
   "cell_type": "code",
   "execution_count": null,
   "metadata": {
    "collapsed": true
   },
   "outputs": [],
   "source": [
    "th = np.linspace(0, 2*np.pi, 64)\n",
    "fig, ax = plt.subplots()\n",
    "ax.plot(th, np.sin(th), 'o-', picker=5)\n",
    "\n",
    "cid = fig.canvas.mpl_connect('button_press_event', event_printer)\n",
    "#fig.canvas.mpl_disconnect(cid)  # how to disconnect the event_printer later on."
   ]
  },
  {
   "cell_type": "markdown",
   "metadata": {},
   "source": [
    "# EXERCISE\n",
    "- Try all 'active' events\n",
    "   ['button_press_event', 'button_release_event', 'scroll_event',\n",
    "    'key_press_event', 'key_release_event', 'pick_event']\n",
    " - tweak the print line\n",
    " - add more than one callback to the canvas\n",
    " - remove a callback as a result of another event\n",
    "- Handy reference https://matplotlib.org/users/event_handling.html"
   ]
  },
  {
   "cell_type": "code",
   "execution_count": null,
   "metadata": {
    "collapsed": true
   },
   "outputs": [],
   "source": []
  }
 ],
 "metadata": {
  "kernelspec": {
   "display_name": "Python 3",
   "language": "python",
   "name": "python3"
  },
  "language_info": {
   "codemirror_mode": {
    "name": "ipython",
    "version": 3
   },
   "file_extension": ".py",
   "mimetype": "text/x-python",
   "name": "python",
   "nbconvert_exporter": "python",
   "pygments_lexer": "ipython3",
   "version": "3.6.1"
  }
 },
 "nbformat": 4,
 "nbformat_minor": 1
}
